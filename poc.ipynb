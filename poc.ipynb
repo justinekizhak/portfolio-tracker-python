{
 "cells": [
  {
   "cell_type": "code",
   "execution_count": 9,
   "id": "dated-undergraduate",
   "metadata": {},
   "outputs": [
    {
     "data": {
      "text/plain": [
       "{'TEST': 'ENV LOCAL'}"
      ]
     },
     "execution_count": 9,
     "metadata": {},
     "output_type": "execute_result"
    }
   ],
   "source": [
    "import os\n",
    "from dotenv import dotenv_values\n",
    "\n",
    "config = {\n",
    "    **dotenv_values(\".env\"),  # load shared development variables\n",
    "    **dotenv_values(\".env.local\"),  # load sensitive variables\n",
    "}\n",
    "config"
   ]
  },
  {
   "cell_type": "code",
   "execution_count": 6,
   "id": "written-admission",
   "metadata": {},
   "outputs": [
    {
     "data": {
      "text/plain": [
       "{'TEST': 'ENV LOCAL'}"
      ]
     },
     "execution_count": 6,
     "metadata": {},
     "output_type": "execute_result"
    }
   ],
   "source": [
    "dotenv_values(\".env.local\")"
   ]
  },
  {
   "cell_type": "code",
   "execution_count": 29,
   "id": "bored-customs",
   "metadata": {},
   "outputs": [
    {
     "data": {
      "text/plain": [
       "False"
      ]
     },
     "execution_count": 29,
     "metadata": {},
     "output_type": "execute_result"
    }
   ],
   "source": [
    "config = {\n",
    "    **os.environ,\n",
    "    **dotenv_values(\".env\")\n",
    "}\n",
    "config.get(\"PRODUCTION_ENV\", \"False\") == \"True\""
   ]
  },
  {
   "cell_type": "code",
   "execution_count": 32,
   "id": "protective-ribbon",
   "metadata": {},
   "outputs": [
    {
     "data": {
      "text/plain": [
       "{'a': 'A', 'TEST': 'DEV LOCAL'}"
      ]
     },
     "execution_count": 32,
     "metadata": {},
     "output_type": "execute_result"
    }
   ],
   "source": [
    "\n",
    "\n",
    "config = {\n",
    "    \"a\": \"A\",\n",
    "    \"TEST\": \"QWE\"\n",
    "}\n",
    "\n",
    "    \n",
    "config"
   ]
  },
  {
   "cell_type": "code",
   "execution_count": 36,
   "id": "portuguese-kennedy",
   "metadata": {},
   "outputs": [
    {
     "data": {
      "text/plain": [
       "['.env.production', '.env.local', '.env.production.local']"
      ]
     },
     "execution_count": 36,
     "metadata": {},
     "output_type": "execute_result"
    }
   ],
   "source": [
    "a = [\".env.production.local\", \".env.local\", \".env.production\"]\n",
    "a.reverse()\n",
    "a"
   ]
  },
  {
   "cell_type": "code",
   "execution_count": 1,
   "id": "historical-controversy",
   "metadata": {},
   "outputs": [
    {
     "data": {
      "text/plain": [
       "Settings(PRODUCTION_ENV=False, PROJECT_NAME='Python Baseline', DEBUG=True, VERSION='v0.1.0', API_V1_STR='/api/v1', API_DOC='/api', API_SWAGGER_URL='/api/swagger', API_REDOC_URL='/api/redoc', SERVER_HOST='0.0.0.0', SERVER_PORT=5000, SERVER_RELOAD=True, BACKEND_CORS_ORIGINS=[])"
      ]
     },
     "execution_count": 1,
     "metadata": {},
     "output_type": "execute_result"
    }
   ],
   "source": [
    "from portfolio_tracker.core import config\n",
    "\n",
    "s = config.get_settings()\n",
    "s"
   ]
  }
 ],
 "metadata": {
  "kernelspec": {
   "display_name": "Python 3",
   "language": "python",
   "name": "python3"
  },
  "language_info": {
   "codemirror_mode": {
    "name": "ipython",
    "version": 3
   },
   "file_extension": ".py",
   "mimetype": "text/x-python",
   "name": "python",
   "nbconvert_exporter": "python",
   "pygments_lexer": "ipython3",
   "version": "3.9.0"
  }
 },
 "nbformat": 4,
 "nbformat_minor": 5
}
